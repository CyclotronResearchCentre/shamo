{
 "cells": [
  {
   "cell_type": "markdown",
   "metadata": {},
   "source": [
    "# Generate the original model"
   ]
  },
  {
   "cell_type": "code",
   "execution_count": 1,
   "metadata": {},
   "outputs": [],
   "source": [
    "from pathlib import Path\n",
    "\n",
    "import numpy as np\n",
    "\n",
    "from shamo import FEModel\n",
    "from shamo import MeshConfig\n",
    "\n",
    "model = FEModel(\"example_dipole\", str(Path(\"./derivatives\")))"
   ]
  },
  {
   "cell_type": "code",
   "execution_count": 2,
   "metadata": {},
   "outputs": [
    {
     "name": "stdout",
     "output_type": "stream",
     "text": [
      "Mesh generated.\n"
     ]
    },
    {
     "name": "stderr",
     "output_type": "stream",
     "text": [
      "/home/martin/CRC/projects/shamo/.venv/lib/python3.7/site-packages/numpy/ctypeslib.py:523: RuntimeWarning: A builtin ctypes object gave a PEP3118 format string that does not match its itemsize, so a best-guess will be made of the data type. Newer versions of python may behave correctly.\n",
      "  return array(obj, copy=False)\n"
     ]
    }
   ],
   "source": [
    "# Generate the parameters\n",
    "labels = np.ones((11, 11, 11), dtype=np.uint8)\n",
    "labels[3:-3, 3:-3, 3:-3] = 2\n",
    "tissues = [\"a\", \"b\"]\n",
    "affine = np.diag([1, 1, 1, 1])\n",
    "mesh_config = MeshConfig(facet_distance=0.1, cell_size=0.75)\n",
    "\n",
    "# Generate the mesh\n",
    "model.mesh_from_labels(labels, tissues, affine, mesh_config=mesh_config)\n",
    "print(\"Mesh generated.\")"
   ]
  },
  {
   "cell_type": "code",
   "execution_count": 3,
   "metadata": {},
   "outputs": [
    {
     "name": "stdout",
     "output_type": "stream",
     "text": [
      "Sensors placed.\n"
     ]
    }
   ],
   "source": [
    "# Define the sensors\n",
    "coordinates = [(x, y, z) for x in (0, 10) for y in (0, 10) for z in (0, 10)]\n",
    "sensors = {chr(ord(\"A\") + i): c for i, c in enumerate(coordinates)}\n",
    "\n",
    "# Add the sensors\n",
    "model.add_sensors(sensors, \"a\")\n",
    "print(\"Sensors placed.\")"
   ]
  },
  {
   "cell_type": "code",
   "execution_count": 4,
   "metadata": {},
   "outputs": [],
   "source": [
    "model.save()"
   ]
  },
  {
   "cell_type": "markdown",
   "metadata": {},
   "source": [
    "# Generate leadfield matrix"
   ]
  },
  {
   "cell_type": "code",
   "execution_count": 5,
   "metadata": {},
   "outputs": [],
   "source": [
    "from shamo import EEGForwardProblem\n",
    "\n",
    "problem = EEGForwardProblem()"
   ]
  },
  {
   "cell_type": "code",
   "execution_count": 6,
   "metadata": {},
   "outputs": [
    {
     "data": {
      "text/plain": [
       "{'regions_of_interest': [],\n",
       " 'markers': [],\n",
       " 'electrical_conductivity': {'a': {'value': 1.0, 'anisotropy': ''},\n",
       "  'b': {'value': 0.5, 'anisotropy': ''}},\n",
       " 'reference': ''}"
      ]
     },
     "execution_count": 6,
     "metadata": {},
     "output_type": "execute_result"
    }
   ],
   "source": [
    "problem.set_electrical_conductivity(\"a\", 1.0)\n",
    "problem.set_electrical_conductivity(\"b\", 0.5)"
   ]
  },
  {
   "cell_type": "code",
   "execution_count": 7,
   "metadata": {},
   "outputs": [
    {
     "data": {
      "text/plain": [
       "{'regions_of_interest': [],\n",
       " 'markers': [],\n",
       " 'electrical_conductivity': {'a': {'value': 1.0, 'anisotropy': ''},\n",
       "  'b': {'value': 0.5, 'anisotropy': ''}},\n",
       " 'reference': 'A'}"
      ]
     },
     "execution_count": 7,
     "metadata": {},
     "output_type": "execute_result"
    }
   ],
   "source": [
    "problem.set_reference(\"A\")"
   ]
  },
  {
   "cell_type": "code",
   "execution_count": 8,
   "metadata": {},
   "outputs": [
    {
     "data": {
      "text/plain": [
       "{'regions_of_interest': ['b'],\n",
       " 'markers': [],\n",
       " 'electrical_conductivity': {'a': {'value': 1.0, 'anisotropy': ''},\n",
       "  'b': {'value': 0.5, 'anisotropy': ''}},\n",
       " 'reference': 'A'}"
      ]
     },
     "execution_count": 8,
     "metadata": {},
     "output_type": "execute_result"
    }
   ],
   "source": [
    "problem.add_region_of_interest(\"b\")"
   ]
  },
  {
   "cell_type": "code",
   "execution_count": 9,
   "metadata": {},
   "outputs": [],
   "source": [
    "leadfield = problem.solve(\"forward_model\", \n",
    "                          model.path, model)"
   ]
  },
  {
   "cell_type": "markdown",
   "metadata": {},
   "source": [
    "# Generate the dipole model"
   ]
  },
  {
   "cell_type": "code",
   "execution_count": 10,
   "metadata": {},
   "outputs": [],
   "source": [
    "dipole_model = FEModel(\"dipole_model\", str(Path(model.path)))"
   ]
  },
  {
   "cell_type": "code",
   "execution_count": 11,
   "metadata": {},
   "outputs": [
    {
     "name": "stdout",
     "output_type": "stream",
     "text": [
      "Mesh generated.\n"
     ]
    },
    {
     "name": "stderr",
     "output_type": "stream",
     "text": [
      "/home/martin/CRC/projects/shamo/.venv/lib/python3.7/site-packages/numpy/ctypeslib.py:523: RuntimeWarning: A builtin ctypes object gave a PEP3118 format string that does not match its itemsize, so a best-guess will be made of the data type. Newer versions of python may behave correctly.\n",
      "  return array(obj, copy=False)\n"
     ]
    }
   ],
   "source": [
    "# Generate the mesh\n",
    "affine = np.diag([1, 1, 1, 1])\n",
    "dipole_model.mesh_from_labels(labels, tissues, affine, mesh_config=mesh_config)\n",
    "print(\"Mesh generated.\")"
   ]
  },
  {
   "cell_type": "markdown",
   "metadata": {},
   "source": [
    "### Add dipoles"
   ]
  },
  {
   "cell_type": "code",
   "execution_count": 12,
   "metadata": {},
   "outputs": [],
   "source": [
    "from shamo import EEGSource\n",
    "\n",
    "source = EEGSource((5, 5, 5), (1, 0, 0), 1e-6)\n",
    "sources = [source]\n",
    "dipole_model.add_sources(sources, \"b\", lc=1e-4)"
   ]
  },
  {
   "cell_type": "code",
   "execution_count": 13,
   "metadata": {},
   "outputs": [
    {
     "name": "stdout",
     "output_type": "stream",
     "text": [
      "Sensors placed.\n"
     ]
    }
   ],
   "source": [
    "# Add the sensors\n",
    "dipole_model.add_sensors(sensors, \"a\")\n",
    "print(\"Sensors placed.\")"
   ]
  },
  {
   "cell_type": "code",
   "execution_count": 14,
   "metadata": {},
   "outputs": [],
   "source": [
    "dipole_model.save()"
   ]
  },
  {
   "cell_type": "markdown",
   "metadata": {},
   "source": [
    "# Simulate the dipoles"
   ]
  },
  {
   "cell_type": "code",
   "execution_count": 15,
   "metadata": {},
   "outputs": [],
   "source": [
    "from shamo import EEGSimulationProblem\n",
    "\n",
    "sim = EEGSimulationProblem()"
   ]
  },
  {
   "cell_type": "code",
   "execution_count": 16,
   "metadata": {},
   "outputs": [
    {
     "data": {
      "text/plain": [
       "{'regions_of_interest': [],\n",
       " 'markers': [],\n",
       " 'electrical_conductivity': {'a': {'value': 1.0, 'anisotropy': ''},\n",
       "  'b': {'value': 0.5, 'anisotropy': ''}},\n",
       " 'reference': '',\n",
       " 'sources': []}"
      ]
     },
     "execution_count": 16,
     "metadata": {},
     "output_type": "execute_result"
    }
   ],
   "source": [
    "sim.set_electrical_conductivity(\"a\", 1.0)\n",
    "sim.set_electrical_conductivity(\"b\", 0.5)"
   ]
  },
  {
   "cell_type": "code",
   "execution_count": 17,
   "metadata": {},
   "outputs": [
    {
     "data": {
      "text/plain": [
       "{'regions_of_interest': [],\n",
       " 'markers': [],\n",
       " 'electrical_conductivity': {'a': {'value': 1.0, 'anisotropy': ''},\n",
       "  'b': {'value': 0.5, 'anisotropy': ''}},\n",
       " 'reference': 'A',\n",
       " 'sources': []}"
      ]
     },
     "execution_count": 17,
     "metadata": {},
     "output_type": "execute_result"
    }
   ],
   "source": [
    "sim.set_reference(\"A\")"
   ]
  },
  {
   "cell_type": "code",
   "execution_count": 18,
   "metadata": {},
   "outputs": [
    {
     "data": {
      "text/plain": [
       "{'regions_of_interest': [],\n",
       " 'markers': [],\n",
       " 'electrical_conductivity': {'a': {'value': 1.0, 'anisotropy': ''},\n",
       "  'b': {'value': 0.5, 'anisotropy': ''}},\n",
       " 'reference': 'A',\n",
       " 'sources': [{'coordinates': (0.005, 0.005, 0.005),\n",
       "   'orientation': (1, 0, 0),\n",
       "   'value': 1e-06,\n",
       "   'unit_orientation': (1.0, 0.0, 0.0)}]}"
      ]
     },
     "execution_count": 18,
     "metadata": {},
     "output_type": "execute_result"
    }
   ],
   "source": [
    "sim.add_source(source)"
   ]
  },
  {
   "cell_type": "code",
   "execution_count": 19,
   "metadata": {},
   "outputs": [],
   "source": [
    "simulation = sim.solve(\"simulation\", dipole_model.path, dipole_model)"
   ]
  },
  {
   "cell_type": "code",
   "execution_count": 20,
   "metadata": {},
   "outputs": [
    {
     "data": {
      "text/plain": [
       "{'B': 0.001085688720703125,\n",
       " 'C': 2.1797139942646026e-07,\n",
       " 'D': 0.000728918212890625,\n",
       " 'E': -0.008647761718749999,\n",
       " 'F': -0.009427546875,\n",
       " 'G': -0.008411673828124999,\n",
       " 'H': -0.009410140624999999}"
      ]
     },
     "execution_count": 20,
     "metadata": {},
     "output_type": "execute_result"
    }
   ],
   "source": [
    "leadfield.evaluate_for_sources(sources)"
   ]
  },
  {
   "cell_type": "code",
   "execution_count": 21,
   "metadata": {},
   "outputs": [
    {
     "data": {
      "text/plain": [
       "{'B': 4.4724631184517305e-05,\n",
       " 'C': -2.7292777773801902e-05,\n",
       " 'D': -2.6684757254591407e-05,\n",
       " 'E': -0.0094058649498176,\n",
       " 'F': -0.00940383219053928,\n",
       " 'G': -0.00943844265710228,\n",
       " 'H': -0.009399378927783503}"
      ]
     },
     "execution_count": 21,
     "metadata": {},
     "output_type": "execute_result"
    }
   ],
   "source": [
    "simulation.recordings"
   ]
  }
 ],
 "metadata": {
  "kernelspec": {
   "display_name": "shamo",
   "language": "python",
   "name": "shamo"
  },
  "language_info": {
   "codemirror_mode": {
    "name": "ipython",
    "version": 3
   },
   "file_extension": ".py",
   "mimetype": "text/x-python",
   "name": "python",
   "nbconvert_exporter": "python",
   "pygments_lexer": "ipython3",
   "version": "3.7.5"
  }
 },
 "nbformat": 4,
 "nbformat_minor": 2
}

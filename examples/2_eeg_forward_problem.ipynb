{
 "cells": [
  {
   "cell_type": "markdown",
   "metadata": {},
   "source": [
    "# Solve EEG forward problem\n",
    "\n",
    "In this example, we go through the process of solving EEG forward problem for the model generated in [this example](1_model_creation.ipynb). The result of this process is a `EEGLeadfieldMatrix` which can be used for further computations.\n",
    "\n",
    "## Model loading\n",
    "\n",
    "First we load the previously generated `FEModel`."
   ]
  },
  {
   "cell_type": "code",
   "execution_count": 1,
   "metadata": {},
   "outputs": [],
   "source": [
    "from pathlib import Path\n",
    "from shamo.model import FEModel\n",
    "\n",
    "model_name = \"example_model\"\n",
    "model_path = Path(\n",
    "    \"./derivatives/{name}/{name}.json\".format(name=model_name))\n",
    "model = FEModel.load(model_path)"
   ]
  },
  {
   "cell_type": "markdown",
   "metadata": {},
   "source": [
    "Now the model is loaded and we can use it to compute a leadfield matrix.\n",
    "\n",
    "## Problem definition\n",
    "\n",
    "In order to generate a `EEGLeadfieldMatrix`, we must define an `EEGForwardProblem`."
   ]
  },
  {
   "cell_type": "code",
   "execution_count": 2,
   "metadata": {},
   "outputs": [],
   "source": [
    "from shamo.problem.forward.eeg import EEGForwardProblem\n",
    "\n",
    "problem = EEGForwardProblem()"
   ]
  },
  {
   "cell_type": "markdown",
   "metadata": {},
   "source": [
    "We can now specify the settings of the problem. As we are trying to solve the EEG forward problem, we must set the electrical conductivity of all the tissues present in the model. Two methods can be used:\n",
    "- `add_tissue()` to add tissues one-by-one.\n",
    "- `add_tissues()` to add multiple tissues.\n",
    "\n",
    "> **Note:**  \n",
    "> Here we set σ [S/m] to some arbitrary values but you should always make sure to use the proper values for the tissues you define."
   ]
  },
  {
   "cell_type": "code",
   "execution_count": 3,
   "metadata": {},
   "outputs": [
    {
     "data": {
      "text/plain": [
       "{'problem_type': 'eeg',\n",
       " 'tissue_properties': {'a': {'sigma': 1.0, 'use_anisotropy': False},\n",
       "  'b': {'sigma': 0.5, 'use_anisotropy': True},\n",
       "  'c': {'sigma': 0.25, 'use_anisotropy': True}},\n",
       " 'undersampling_distance': 0,\n",
       " 'markers': []}"
      ]
     },
     "execution_count": 3,
     "metadata": {},
     "output_type": "execute_result"
    }
   ],
   "source": [
    "problem.add_tissue(\"a\", 1.0)\n",
    "tissues = {\"b\": 0.5, \"c\": 0.25}\n",
    "problem.add_tissues(tissues, True)"
   ]
  },
  {
   "cell_type": "markdown",
   "metadata": {},
   "source": [
    "Now that the tissues are all setup, we can focus on the sensors. The problem requires a reference which is the ground sensor. We add it by its name in the model."
   ]
  },
  {
   "cell_type": "code",
   "execution_count": 4,
   "metadata": {},
   "outputs": [
    {
     "data": {
      "text/plain": [
       "{'problem_type': 'eeg',\n",
       " 'tissue_properties': {'a': {'sigma': 1.0, 'use_anisotropy': False},\n",
       "  'b': {'sigma': 0.5, 'use_anisotropy': True},\n",
       "  'c': {'sigma': 0.25, 'use_anisotropy': True}},\n",
       " 'undersampling_distance': 0,\n",
       " 'markers': [],\n",
       " 'reference': 'A'}"
      ]
     },
     "execution_count": 4,
     "metadata": {},
     "output_type": "execute_result"
    }
   ],
   "source": [
    "problem.set_reference(\"A\")"
   ]
  },
  {
   "cell_type": "markdown",
   "metadata": {},
   "source": [
    "We can also list the names of the sensors which should not be considered in the computation. Those are called \"markers\". We can add them using both:\n",
    "- `add_marker()` to add only one sensor to the list.\n",
    "- `add_markers()` to add several sensors at once.\n",
    "\n",
    "For the sake of this example, we will add two markers."
   ]
  },
  {
   "cell_type": "code",
   "execution_count": 5,
   "metadata": {},
   "outputs": [
    {
     "data": {
      "text/plain": [
       "{'problem_type': 'eeg',\n",
       " 'tissue_properties': {'a': {'sigma': 1.0, 'use_anisotropy': False},\n",
       "  'b': {'sigma': 0.5, 'use_anisotropy': True},\n",
       "  'c': {'sigma': 0.25, 'use_anisotropy': True}},\n",
       " 'undersampling_distance': 0,\n",
       " 'markers': ['C', 'G'],\n",
       " 'reference': 'A'}"
      ]
     },
     "execution_count": 5,
     "metadata": {},
     "output_type": "execute_result"
    }
   ],
   "source": [
    "problem.add_markers([\"C\", \"G\"])"
   ]
  },
  {
   "cell_type": "markdown",
   "metadata": {},
   "source": [
    "Finaly, we must list the tissues for which we want to compute the leadfield matrix. Once again, it is possible to add them either one by one or by batchs using the following methods:\n",
    "- `add_region_of_interest()`\n",
    "- `add_regions_of_interest()`"
   ]
  },
  {
   "cell_type": "code",
   "execution_count": 6,
   "metadata": {},
   "outputs": [
    {
     "data": {
      "text/plain": [
       "{'problem_type': 'eeg',\n",
       " 'tissue_properties': {'a': {'sigma': 1.0, 'use_anisotropy': False},\n",
       "  'b': {'sigma': 0.5, 'use_anisotropy': True},\n",
       "  'c': {'sigma': 0.25, 'use_anisotropy': True}},\n",
       " 'undersampling_distance': 0,\n",
       " 'markers': ['C', 'G'],\n",
       " 'reference': 'A',\n",
       " 'region_of_interest': ['b', 'c']}"
      ]
     },
     "execution_count": 6,
     "metadata": {},
     "output_type": "execute_result"
    }
   ],
   "source": [
    "problem.add_regions_of_interest([\"b\", \"c\"])"
   ]
  },
  {
   "cell_type": "markdown",
   "metadata": {},
   "source": [
    "It is possible to undersample the resulting matrix to only keep values for elements equally spaced by a certain distance [mm].\n",
    "\n",
    "> **Note:**  \n",
    "> This parameter will induce some loss of data. You should always make sure to have enough data for the purpose you are doing these computations for."
   ]
  },
  {
   "cell_type": "code",
   "execution_count": 7,
   "metadata": {},
   "outputs": [
    {
     "data": {
      "text/plain": [
       "{'problem_type': 'eeg',\n",
       " 'tissue_properties': {'a': {'sigma': 1.0, 'use_anisotropy': False},\n",
       "  'b': {'sigma': 0.5, 'use_anisotropy': True},\n",
       "  'c': {'sigma': 0.25, 'use_anisotropy': True}},\n",
       " 'undersampling_distance': 50,\n",
       " 'markers': ['C', 'G'],\n",
       " 'reference': 'A',\n",
       " 'region_of_interest': ['b', 'c']}"
      ]
     },
     "execution_count": 7,
     "metadata": {},
     "output_type": "execute_result"
    }
   ],
   "source": [
    "problem.set_undersampling_distance(50)"
   ]
  },
  {
   "cell_type": "markdown",
   "metadata": {},
   "source": [
    "## Problem resolution\n",
    "\n",
    "Now that the problem is completely defined, we just have to solve it."
   ]
  },
  {
   "cell_type": "code",
   "execution_count": 8,
   "metadata": {},
   "outputs": [],
   "source": [
    "leadfield = problem.solve(model, \n",
    "                          \"example_eeg_leadfield\", \n",
    "                          \"./derivatives\")"
   ]
  }
 ],
 "metadata": {
  "kernelspec": {
   "display_name": "shamo",
   "language": "python",
   "name": "shamo"
  },
  "language_info": {
   "codemirror_mode": {
    "name": "ipython",
    "version": 3
   },
   "file_extension": ".py",
   "mimetype": "text/x-python",
   "name": "python",
   "nbconvert_exporter": "python",
   "pygments_lexer": "ipython3",
   "version": "3.7.3"
  }
 },
 "nbformat": 4,
 "nbformat_minor": 4
}

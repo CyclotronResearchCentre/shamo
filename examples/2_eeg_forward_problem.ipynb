{
 "cells": [
  {
   "cell_type": "code",
   "execution_count": 1,
   "metadata": {},
   "outputs": [],
   "source": [
    "from pathlib import Path\n",
    "from shamo.model import FEModel\n",
    "\n",
    "model_name = \"example_model\"\n",
    "model_path = Path(\n",
    "    \"./derivatives/{name}/{name}.json\".format(name=model_name))\n",
    "model = FEModel.load(model_path)"
   ]
  },
  {
   "cell_type": "code",
   "execution_count": 2,
   "metadata": {},
   "outputs": [
    {
     "data": {
      "text/plain": [
       "{'problem_type': 'eeg',\n",
       " 'tissue_properties': {'a': {'sigma': 1.0, 'use_anisotropy': False},\n",
       "  'b': {'sigma': 0.5, 'use_anisotropy': False},\n",
       "  'c': {'sigma': 0.25, 'use_anisotropy': False}},\n",
       " 'undersampling_distance': 50,\n",
       " 'markers': ['C', 'G'],\n",
       " 'reference': 'A',\n",
       " 'region_of_interest': ['b', 'c']}"
      ]
     },
     "execution_count": 2,
     "metadata": {},
     "output_type": "execute_result"
    }
   ],
   "source": [
    "from shamo.problem.forward.eeg import EEGForwardProblem\n",
    "\n",
    "problem = EEGForwardProblem()\n",
    "\n",
    "problem.add_tissue(\"a\", 1.0)\n",
    "problem.add_tissue(\"b\", 0.5)\n",
    "problem.add_tissue(\"c\", 0.25)\n",
    "\n",
    "problem.set_reference(\"A\")\n",
    "problem.add_markers([\"C\", \"G\"])\n",
    "\n",
    "problem.add_regions_of_interest([\"b\", \"c\"])\n",
    "\n",
    "problem.set_undersampling_distance(50)"
   ]
  },
  {
   "cell_type": "code",
   "execution_count": 3,
   "metadata": {},
   "outputs": [
    {
     "data": {
      "text/plain": [
       "{'a': {'volume_group': 1,\n",
       "  'volume_entity': [1],\n",
       "  'surface_group': 2,\n",
       "  'surface_entity': [1]},\n",
       " 'b': {'volume_group': 3,\n",
       "  'volume_entity': [2],\n",
       "  'surface_group': 4,\n",
       "  'surface_entity': [2]},\n",
       " 'c': {'volume_group': 5,\n",
       "  'volume_entity': [3],\n",
       "  'surface_group': 6,\n",
       "  'surface_entity': [3]}}"
      ]
     },
     "execution_count": 3,
     "metadata": {},
     "output_type": "execute_result"
    }
   ],
   "source": [
    "model.tissues"
   ]
  },
  {
   "cell_type": "code",
   "execution_count": 4,
   "metadata": {},
   "outputs": [
    {
     "name": "stdout",
     "output_type": "stream",
     "text": [
      "1 [2659]\n"
     ]
    }
   ],
   "source": [
    "problem.solve(model, \"example_problem\", \"./derivatives\")"
   ]
  },
  {
   "cell_type": "code",
   "execution_count": null,
   "metadata": {},
   "outputs": [],
   "source": []
  }
 ],
 "metadata": {
  "kernelspec": {
   "display_name": "shamo",
   "language": "python",
   "name": "shamo"
  },
  "language_info": {
   "codemirror_mode": {
    "name": "ipython",
    "version": 3
   },
   "file_extension": ".py",
   "mimetype": "text/x-python",
   "name": "python",
   "nbconvert_exporter": "python",
   "pygments_lexer": "ipython3",
   "version": "3.7.3"
  }
 },
 "nbformat": 4,
 "nbformat_minor": 4
}

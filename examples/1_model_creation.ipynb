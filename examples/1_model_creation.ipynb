{
 "cells": [
  {
   "cell_type": "markdown",
   "metadata": {},
   "source": [
    "# Model creation\n",
    "\n",
    "In this example, we go through the process of generating a `FEModel` which can then be used for further computations.\n",
    "\n",
    "## Model initialization\n",
    "\n",
    "First, we initialize the `FEModel`."
   ]
  },
  {
   "cell_type": "code",
   "execution_count": 1,
   "metadata": {},
   "outputs": [],
   "source": [
    "from pathlib import Path\n",
    "from shamo.model import FEModel\n",
    "\n",
    "model = FEModel(\"example_model\", str(Path(\"./derivatives\")))"
   ]
  },
  {
   "cell_type": "markdown",
   "metadata": {},
   "source": [
    "After that, a directory named `example_model` appears in the current directory.\n",
    "\n",
    "## Mesh generation\n",
    "\n",
    "First, the model must have a mesh to store geometric information. The `FEModel` class provides four methods to generate a mesh depending on the data you have at the beginning:\n",
    "- `model.fem_from_labels()` is used if the input data is a `np.ndarray` containing multiple integer labels from `0` (void) to `n` (n-th tissue).\n",
    "- `model.fem_from_nii()` is used if the input data is a `.nii` image containing the exact same data as the `np.ndarray` described above.\n",
    "- `model.fem_from_masks()` is used if the input data is a series of `np.ndarray` containing each separate tissue binary masks.\n",
    "- `model.fem_from_niis()` is used if the input data is a series of `.nii` images containing the data described above.\n",
    "\n",
    "For the purpose of this example, we generate a multilabel `np.array` from scratch and pass it to `model.fem_from_labels()` but all the methods described above give the same result."
   ]
  },
  {
   "cell_type": "code",
   "execution_count": 2,
   "metadata": {},
   "outputs": [],
   "source": [
    "import numpy as np\n",
    "from shamo.model import MeshConfig\n",
    "\n",
    "# Generate the parameters\n",
    "labels = np.ones((11, 11, 11), dtype=np.uint8)\n",
    "labels[3:-3, 3:-3, 3:-3] = 2\n",
    "labels[2:-5, 2:-5, 2:-5] = 3\n",
    "labels[5, :, :4] = 0\n",
    "\n",
    "tissues = [\"a\", \"b\", \"c\"]\n",
    "\n",
    "affine = np.diag([1, 1, 1, 1])\n",
    "\n",
    "mesh_config = MeshConfig(facet_distance=1, cell_size=0.5)\n",
    "\n",
    "# Generate the mesh\n",
    "model.fem_from_labels(labels, tissues, affine, mesh_config=mesh_config)\n",
    "model.save()"
   ]
  },
  {
   "cell_type": "markdown",
   "metadata": {},
   "source": [
    "After this, a file named `example_model.msh` is created under the previously created `example_model/` directory. You can open it with [Gmsh](http://gmsh.info/). The `FEModel` also has a new attribute `tissues`. Each key-value pair represents a tissue of the model determined by a `Tissue` object.\n",
    "\n",
    "## Sensors placement\n",
    "\n",
    "Now that we have a proper mesh, it is time to add the sensors. To do so, we can use the two following methods:\n",
    "- `model.add_sensor_on_tissue()` to add a single sensor.\n",
    "- `model.add_sensors_on_tissues()` to add multiple sensors at once.\n",
    "\n",
    "In this example, we define 8 sensors located. For each, we set a name and a location."
   ]
  },
  {
   "cell_type": "code",
   "execution_count": 3,
   "metadata": {},
   "outputs": [
    {
     "name": "stderr",
     "output_type": "stream",
     "text": [
      "/home/martin/Bureau/codes/shamo/.venv/lib/python3.7/site-packages/numpy/ctypeslib.py:523: RuntimeWarning: A builtin ctypes object gave a PEP3118 format string that does not match its itemsize, so a best-guess will be made of the data type. Newer versions of python may behave correctly.\n",
      "  return array(obj, copy=False)\n"
     ]
    },
    {
     "data": {
      "text/plain": [
       "{'mesh_path': 'example_model.msh',\n",
       " 'tissues': {'a': {'volume_group': 1,\n",
       "   'volume_entity': [1],\n",
       "   'surface_group': 2,\n",
       "   'surface_entity': [1]},\n",
       "  'b': {'volume_group': 3,\n",
       "   'volume_entity': [2],\n",
       "   'surface_group': 4,\n",
       "   'surface_entity': [2]},\n",
       "  'c': {'volume_group': 5,\n",
       "   'volume_entity': [3],\n",
       "   'surface_group': 6,\n",
       "   'surface_entity': [3]}},\n",
       " 'sensors': {'A': {'real_coordinates': (0, 0, 0),\n",
       "   'mesh_coordinates': (0.4722380936145782,\n",
       "    0.06859377026557922,\n",
       "    0.002851892728358507),\n",
       "   'group': 1,\n",
       "   'entity': 1,\n",
       "   'on_tissue': 'a'},\n",
       "  'B': {'real_coordinates': (0, 0, 10),\n",
       "   'mesh_coordinates': (0.4705657660961151,\n",
       "    0.001449603820219636,\n",
       "    9.708480834960938),\n",
       "   'group': 2,\n",
       "   'entity': 2,\n",
       "   'on_tissue': 'a'},\n",
       "  'C': {'real_coordinates': (0, 10, 0),\n",
       "   'mesh_coordinates': (0.3559772670269012,\n",
       "    9.781022071838379,\n",
       "    0.001235880539752543),\n",
       "   'group': 3,\n",
       "   'entity': 3,\n",
       "   'on_tissue': 'a'},\n",
       "  'D': {'real_coordinates': (0, 10, 10),\n",
       "   'mesh_coordinates': (-0.0009835984092205763,\n",
       "    9.515257835388184,\n",
       "    9.81075382232666),\n",
       "   'group': 4,\n",
       "   'entity': 4,\n",
       "   'on_tissue': 'a'},\n",
       "  'E': {'real_coordinates': (10, 0, 0),\n",
       "   'mesh_coordinates': (9.699692726135254,\n",
       "    0.1818093359470367,\n",
       "    8.148334745783359e-05),\n",
       "   'group': 5,\n",
       "   'entity': 5,\n",
       "   'on_tissue': 'a'},\n",
       "  'F': {'real_coordinates': (10, 0, 10),\n",
       "   'mesh_coordinates': (9.587076187133789,\n",
       "    0.1930202841758728,\n",
       "    10.00288963317871),\n",
       "   'group': 6,\n",
       "   'entity': 6,\n",
       "   'on_tissue': 'a'},\n",
       "  'G': {'real_coordinates': (10, 10, 0),\n",
       "   'mesh_coordinates': (9.95539379119873,\n",
       "    9.998711585998535,\n",
       "    0.08734952658414841),\n",
       "   'group': 7,\n",
       "   'entity': 7,\n",
       "   'on_tissue': 'a'},\n",
       "  'H': {'real_coordinates': (10, 10, 10),\n",
       "   'mesh_coordinates': (9.60344409942627,\n",
       "    9.797752380371094,\n",
       "    9.999163627624512),\n",
       "   'group': 8,\n",
       "   'entity': 8,\n",
       "   'on_tissue': 'a'}}}"
      ]
     },
     "execution_count": 3,
     "metadata": {},
     "output_type": "execute_result"
    }
   ],
   "source": [
    "# Define the sensors\n",
    "coordinates = [(x, y, z) for x in (0, 10) for y in (0, 10) for z in (0, 10)]\n",
    "sensors = {chr(ord(\"A\") + i): c for i, c in enumerate(coordinates)}\n",
    "\n",
    "# Add the sensors\n",
    "model.add_sensors_on_tissue(sensors, \"a\")"
   ]
  },
  {
   "cell_type": "markdown",
   "metadata": {},
   "source": [
    "Now, the mesh contains multiple sensors. To know the error of placement of each of them, simply call `Sensor.coordinates_error`:"
   ]
  },
  {
   "cell_type": "code",
   "execution_count": 4,
   "metadata": {},
   "outputs": [
    {
     "name": "stdout",
     "output_type": "stream",
     "text": [
      "A: 0.477[mm]\n",
      "B: 0.554[mm]\n",
      "C: 0.418[mm]\n",
      "D: 0.520[mm]\n",
      "E: 0.351[mm]\n",
      "F: 0.456[mm]\n",
      "G: 0.098[mm]\n",
      "H: 0.445[mm]\n"
     ]
    }
   ],
   "source": [
    "for name, sensor in model.sensors.items():\n",
    "    print(\"{}: {:0.3f}[mm]\".format(name, sensor.coordinates_error))"
   ]
  },
  {
   "cell_type": "code",
   "execution_count": null,
   "metadata": {},
   "outputs": [],
   "source": []
  }
 ],
 "metadata": {
  "kernelspec": {
   "display_name": "shamo",
   "language": "python",
   "name": "shamo"
  },
  "language_info": {
   "codemirror_mode": {
    "name": "ipython",
    "version": 3
   },
   "file_extension": ".py",
   "mimetype": "text/x-python",
   "name": "python",
   "nbconvert_exporter": "python",
   "pygments_lexer": "ipython3",
   "version": "3.7.3"
  }
 },
 "nbformat": 4,
 "nbformat_minor": 2
}

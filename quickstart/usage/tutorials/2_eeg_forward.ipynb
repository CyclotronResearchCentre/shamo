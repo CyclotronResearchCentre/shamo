{
 "cells": [
  {
   "cell_type": "markdown",
   "metadata": {},
   "source": [
    "# Solve EEG forward problem\n",
    "\n",
    "In this example, we go through the process of solving EEG forward problem for the model generated in [this example](1_model_creation.ipynb). The result of this process is a `EEGForwardSolution` which can be used for further computations.\n",
    "\n",
    "## Model loading\n",
    "\n",
    "First we load the previously generated `FEModel`."
   ]
  },
  {
   "cell_type": "code",
   "execution_count": 1,
   "metadata": {},
   "outputs": [],
   "source": [
    "from pathlib import Path\n",
    "from shamo import FEModel\n",
    "\n",
    "model_name = \"model\"\n",
    "model_path = Path((\"./derivatives/1_model_creation/{name}\"\n",
    "                   \"/{name}.json\").format(name=model_name))\n",
    "model = FEModel.load(model_path)"
   ]
  },
  {
   "cell_type": "markdown",
   "metadata": {},
   "source": [
    "Now the model is loaded and we can use it to compute a leadfield matrix.\n",
    "\n",
    "## Problem definition\n",
    "\n",
    "In order to generate an `EEGForwardSolution`, we must define an `EEGForwardProblem`."
   ]
  },
  {
   "cell_type": "code",
   "execution_count": 2,
   "metadata": {},
   "outputs": [],
   "source": [
    "from shamo import EEGForwardProblem\n",
    "\n",
    "problem = EEGForwardProblem()"
   ]
  },
  {
   "cell_type": "markdown",
   "metadata": {},
   "source": [
    "We can now specify the settings of the problem. As we are trying to solve the EEG forward problem, we must set the electrical conductivity of all the tissues present in the model. Two methods can be used:\n",
    "- `set_electrical_conductivity()` to set σ tissue by tissue.\n",
    "- `set_electrical_conductivities()` to set multiple σ at once.\n",
    "\n",
    "> **Note:**  \n",
    "> Here we set σ [S/m] to some arbitrary values but you should always make sure to use the proper values for the tissues you define."
   ]
  },
  {
   "cell_type": "code",
   "execution_count": 3,
   "metadata": {},
   "outputs": [
    {
     "data": {
      "text/plain": [
       "{'regions_of_interest': [],\n",
       " 'markers': [],\n",
       " 'electrical_conductivity': {'a': {'value': 1.0, 'anisotropy': ''},\n",
       "  'b': {'value': 0.5, 'anisotropy': 'b_anisotropy'},\n",
       "  'c': {'value': 0.25, 'anisotropy': ''}},\n",
       " 'reference': ''}"
      ]
     },
     "execution_count": 3,
     "metadata": {},
     "output_type": "execute_result"
    }
   ],
   "source": [
    "problem.set_electrical_conductivity(\"a\", 1.0)\n",
    "sigmas = {\"b\": 0.5, \"c\": 0.25}\n",
    "problem.set_electrical_conductivities(sigmas, {\"b\": \"b_anisotropy\"})"
   ]
  },
  {
   "cell_type": "markdown",
   "metadata": {},
   "source": [
    "Now that the tissues are all setup, we can focus on the sensors. The problem requires a reference which is the ground sensor. We add it by its name in the model."
   ]
  },
  {
   "cell_type": "code",
   "execution_count": 4,
   "metadata": {},
   "outputs": [
    {
     "data": {
      "text/plain": [
       "{'regions_of_interest': [],\n",
       " 'markers': [],\n",
       " 'electrical_conductivity': {'a': {'value': 1.0, 'anisotropy': ''},\n",
       "  'b': {'value': 0.5, 'anisotropy': 'b_anisotropy'},\n",
       "  'c': {'value': 0.25, 'anisotropy': ''}},\n",
       " 'reference': 'A'}"
      ]
     },
     "execution_count": 4,
     "metadata": {},
     "output_type": "execute_result"
    }
   ],
   "source": [
    "problem.set_reference(\"A\")"
   ]
  },
  {
   "cell_type": "markdown",
   "metadata": {},
   "source": [
    "We can also list the names of the sensors which should not be considered in the computation. Those are called \"markers\". We can add them using both:\n",
    "- `add_marker()` to add only one sensor to the list.\n",
    "- `add_markers()` to add several sensors at once.\n",
    "\n",
    "For the sake of this example, we will add two markers."
   ]
  },
  {
   "cell_type": "code",
   "execution_count": 5,
   "metadata": {},
   "outputs": [
    {
     "data": {
      "text/plain": [
       "{'regions_of_interest': [],\n",
       " 'markers': ['C', 'G'],\n",
       " 'electrical_conductivity': {'a': {'value': 1.0, 'anisotropy': ''},\n",
       "  'b': {'value': 0.5, 'anisotropy': 'b_anisotropy'},\n",
       "  'c': {'value': 0.25, 'anisotropy': ''}},\n",
       " 'reference': 'A'}"
      ]
     },
     "execution_count": 5,
     "metadata": {},
     "output_type": "execute_result"
    }
   ],
   "source": [
    "problem.add_markers([\"C\", \"G\"])"
   ]
  },
  {
   "cell_type": "markdown",
   "metadata": {},
   "source": [
    "Finaly, we must list the tissues for which we want to compute the leadfield matrix. Once again, it is possible to add them either one by one or by batchs using the following methods:\n",
    "- `add_region_of_interest()`\n",
    "- `add_regions_of_interest()`"
   ]
  },
  {
   "cell_type": "code",
   "execution_count": 6,
   "metadata": {},
   "outputs": [
    {
     "data": {
      "text/plain": [
       "{'regions_of_interest': ['b', 'c'],\n",
       " 'markers': ['C', 'G'],\n",
       " 'electrical_conductivity': {'a': {'value': 1.0, 'anisotropy': ''},\n",
       "  'b': {'value': 0.5, 'anisotropy': 'b_anisotropy'},\n",
       "  'c': {'value': 0.25, 'anisotropy': ''}},\n",
       " 'reference': 'A'}"
      ]
     },
     "execution_count": 6,
     "metadata": {},
     "output_type": "execute_result"
    }
   ],
   "source": [
    "problem.add_regions_of_interest([\"b\", \"c\"])"
   ]
  },
  {
   "cell_type": "markdown",
   "metadata": {},
   "source": [
    "## Problem resolution\n",
    "\n",
    "Now that the problem is completely defined, we just have to solve it."
   ]
  },
  {
   "cell_type": "code",
   "execution_count": 7,
   "metadata": {},
   "outputs": [],
   "source": [
    "solution = problem.solve(\"solution\", \n",
    "                          \"./derivatives/2_eeg_forward\", model)"
   ]
  },
  {
   "cell_type": "markdown",
   "metadata": {},
   "source": [
    "## Evaluation\n",
    "\n",
    "The `EEGForwardSolution` contains a leadfield matrix $L$ that can be used to compute the electrical potentials recorded by the sensors resulting from a source array. This is achieved through the equation:\n",
    "\n",
    "$$\n",
    "L \\cdot \\vec{s} = \\vec{r}\n",
    "$$\n",
    "\n",
    "To compute a recodings vector $\\vec{r}$ using an `EEGForwardSolution`, simply use one of the following methods:\n",
    "- `evaluate()`\n",
    "- `evaluate_for_elements()`\n",
    "- `evaluate_for_sources()`\n",
    "\n",
    "The simplest is `evaluate_for_sources()` as it only requires you to define an array of `EEGSource` objects. This is what we will use.\n",
    "\n",
    "> **Note:**  \n",
    "> In this example, we only define one source but you can use as many as you want."
   ]
  },
  {
   "cell_type": "code",
   "execution_count": 8,
   "metadata": {},
   "outputs": [
    {
     "data": {
      "text/plain": [
       "{'B': 0.00315052392578125,\n",
       " 'D': 0.00506706787109375,\n",
       " 'E': -0.0062497861328125,\n",
       " 'F': -0.00755338818359375,\n",
       " 'H': -0.009730138671875}"
      ]
     },
     "execution_count": 8,
     "metadata": {},
     "output_type": "execute_result"
    }
   ],
   "source": [
    "from shamo import EEGSource\n",
    "\n",
    "sources = [EEGSource((6, 6, 6), (1, 0, 0), 1e-6)]\n",
    "solution.evaluate_for_sources(sources)"
   ]
  }
 ],
 "metadata": {
  "kernelspec": {
   "display_name": "Python 3",
   "language": "python",
   "name": "python3"
  },
  "language_info": {
   "codemirror_mode": {
    "name": "ipython",
    "version": 3
   },
   "file_extension": ".py",
   "mimetype": "text/x-python",
   "name": "python",
   "nbconvert_exporter": "python",
   "pygments_lexer": "ipython3",
   "version": "3.8.2"
  }
 },
 "nbformat": 4,
 "nbformat_minor": 4
}

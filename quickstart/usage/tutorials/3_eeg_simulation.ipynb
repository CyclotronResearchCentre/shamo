{
 "cells": [
  {
   "cell_type": "markdown",
   "metadata": {},
   "source": [
    "# Simulate EEG source(s)\n",
    "\n",
    "In this example, we explain how to simulate one or multiple sources to produce EEG measurements. The resulting `EEGSimulationSolution` can then be compared with the results obtained through evaluations of an `EEGForwardSolution`.\n",
    "\n",
    "## Source definition\n",
    "\n",
    "For this example we will simulate a single source. The process to add more is the same as you would only have to add `EEGSource` objects to the list."
   ]
  },
  {
   "cell_type": "code",
   "execution_count": 1,
   "metadata": {},
   "outputs": [],
   "source": [
    "from shamo import EEGSource\n",
    "\n",
    "sources = [EEGSource((6, 6, 6), (1, 0, 0), 1e-6)]"
   ]
  },
  {
   "cell_type": "markdown",
   "metadata": {},
   "source": [
    "An `EEGSource` is defined by its coordinates [mm], its orientation and its dipole moment [Am].\n",
    "\n",
    "## Model creation\n",
    "\n",
    "The model we create is almost the same as the one in [this example](1_model_creation.ipynb) so refer to it for more information. The only deferring step is the addition of the source(s).\n",
    "\n",
    "This is achieved by using the `add_sources()` method. This method must be called only once per tissue that you want to add source(s) in. \n",
    "\n",
    "> **Note:**  \n",
    "> The `add_sources()` method is destructive meaning it does not keep previous information such as previous source(s) or anisotropy. This is why we create a new model for the simulation."
   ]
  },
  {
   "cell_type": "code",
   "execution_count": 2,
   "metadata": {},
   "outputs": [
    {
     "name": "stdout",
     "output_type": "stream",
     "text": [
      "Model created.\n"
     ]
    },
    {
     "name": "stderr",
     "output_type": "stream",
     "text": [
      "/usr/lib/python3/dist-packages/numpy/ctypeslib.py:531: RuntimeWarning: A builtin ctypes object gave a PEP3118 format string that does not match its itemsize, so a best-guess will be made of the data type. Newer versions of python may behave correctly.\n",
      "  return array(obj, copy=False)\n"
     ]
    }
   ],
   "source": [
    "import numpy as np\n",
    "from shamo import FEModel, MeshConfig\n",
    "\n",
    "sim_model = FEModel(\"model\", \n",
    "                    \"./derivatives/3_eeg_simulation\")\n",
    "\n",
    "# Generate mesh\n",
    "labels = np.ones((11, 11, 11), dtype=np.uint8)\n",
    "labels[3:-3, 3:-3, 3:-3] = 2\n",
    "labels[2:-5, 2:-5, 2:-5] = 3\n",
    "tissues = [\"a\", \"b\", \"c\"]\n",
    "affine = np.diag([1, 1, 1, 1])\n",
    "mesh_config = MeshConfig(facet_distance=1.5, cell_size=1)\n",
    "sim_model.mesh_from_labels(labels, tissues, affine, \n",
    "                           mesh_config=mesh_config)\n",
    "\n",
    "# Add source(s)\n",
    "sim_model.add_sources(sources, \"b\", lc=1e-4)\n",
    "sim_model.save()\n",
    "\n",
    "# Add sensors\n",
    "coordinates = [(x, y, z) for x in (0, 10) for y in (0, 10) \n",
    "               for z in (0, 10)]\n",
    "sensors = {chr(ord(\"A\") + i): c for i, c in enumerate(coordinates)}\n",
    "sim_model.add_sensors(sensors, \"a\")\n",
    "\n",
    "# Add anisotropy\n",
    "field = np.ones((2, 2, 2)) * 0.1\n",
    "field[1, :, :] = 1\n",
    "field[:, 1, :] = 1\n",
    "field[:, :, 1] = 1\n",
    "affine = np.diag([10, 10, 10, 1])\n",
    "sim_model.add_anisotropy_from_array(field, affine, \"b\",\n",
    "                                fill_value=1e-8, formula=\"<b>\")\n",
    "\n",
    "# Save\n",
    "sim_model.save()\n",
    "print(\"Model created.\")"
   ]
  },
  {
   "cell_type": "markdown",
   "metadata": {},
   "source": [
    "If you open the resulting model in Gmsh, you can see that six points have been added to the model defining three pairs corresponding to the space axis.\n",
    "\n",
    "## Problem definition\n",
    "\n",
    "We first have to define a problem to solve. In this case, we create a `EEGSimulationProblem` which will generate a `EEGSimulationSolution`. This step is all the same as the [EEG forward problem](2_eeg_forward.ipynb) but one line."
   ]
  },
  {
   "cell_type": "code",
   "execution_count": 3,
   "metadata": {},
   "outputs": [
    {
     "data": {
      "text/plain": [
       "{'regions_of_interest': [],\n",
       " 'markers': ['C', 'G'],\n",
       " 'electrical_conductivity': {'a': {'value': 1.0, 'anisotropy': ''},\n",
       "  'b': {'value': 0.5, 'anisotropy': 'b_anisotropy'},\n",
       "  'c': {'value': 0.25, 'anisotropy': ''}},\n",
       " 'reference': 'A',\n",
       " 'sources': []}"
      ]
     },
     "execution_count": 3,
     "metadata": {},
     "output_type": "execute_result"
    }
   ],
   "source": [
    "from shamo import EEGSimulationProblem\n",
    "\n",
    "problem = EEGSimulationProblem()\n",
    "\n",
    "# Set the electical conductivities\n",
    "sigmas = {\"a\": 1.0, \"b\": 0.5, \"c\": 0.25}\n",
    "problem.set_electrical_conductivities(sigmas, {\"b\": \"b_anisotropy\"})\n",
    "\n",
    "# Set the reference\n",
    "problem.set_reference(\"A\")\n",
    "\n",
    "# Add markers\n",
    "problem.add_markers([\"C\", \"G\"])"
   ]
  },
  {
   "cell_type": "markdown",
   "metadata": {},
   "source": [
    "No need to add a region of interest here but we must specify the source(s) we want to simulate."
   ]
  },
  {
   "cell_type": "code",
   "execution_count": 4,
   "metadata": {},
   "outputs": [
    {
     "data": {
      "text/plain": [
       "{'regions_of_interest': [],\n",
       " 'markers': ['C', 'G'],\n",
       " 'electrical_conductivity': {'a': {'value': 1.0, 'anisotropy': ''},\n",
       "  'b': {'value': 0.5, 'anisotropy': 'b_anisotropy'},\n",
       "  'c': {'value': 0.25, 'anisotropy': ''}},\n",
       " 'reference': 'A',\n",
       " 'sources': [{'coordinates': (0.006, 0.006, 0.006),\n",
       "   'orientation': (1, 0, 0),\n",
       "   'value': 1e-06,\n",
       "   'unit_orientation': (1.0, 0.0, 0.0)}]}"
      ]
     },
     "execution_count": 4,
     "metadata": {},
     "output_type": "execute_result"
    }
   ],
   "source": [
    "problem.add_sources(sources)"
   ]
  },
  {
   "cell_type": "markdown",
   "metadata": {},
   "source": [
    "## Problem resolution\n",
    "\n",
    "Now that the problem is fully defined, we can solve it and look at the resulting recordings."
   ]
  },
  {
   "cell_type": "code",
   "execution_count": 5,
   "metadata": {},
   "outputs": [
    {
     "name": "stdout",
     "output_type": "stream",
     "text": [
      "{'B': 0.0018330451402722991, 'D': 0.004812119135756493, 'E': -0.0060166481270252925, 'F': -0.007019520881107605, 'H': -0.009858387831023302}\n"
     ]
    }
   ],
   "source": [
    "simulation = problem.solve(\"solution\", \n",
    "                           \"./derivatives/3_eeg_simulation\",\n",
    "                           sim_model)\n",
    "print(simulation.recordings)"
   ]
  },
  {
   "cell_type": "markdown",
   "metadata": {},
   "source": [
    "Such a simulation not only provides sensors recordings but also three additional files:\n",
    "- `v_skin.pos` contains the electrical potential [V] at every point of the skin.\n",
    "- `v.pos` contains the electrical potential [V] in every element of the volume.\n",
    "- `j.pos` contains the current density [Am$^{-2}$] in every element of the volume."
   ]
  }
 ],
 "metadata": {
  "kernelspec": {
   "display_name": "Python 3",
   "language": "python",
   "name": "python3"
  },
  "language_info": {
   "codemirror_mode": {
    "name": "ipython",
    "version": 3
   },
   "file_extension": ".py",
   "mimetype": "text/x-python",
   "name": "python",
   "nbconvert_exporter": "python",
   "pygments_lexer": "ipython3",
   "version": "3.8.2"
  }
 },
 "nbformat": 4,
 "nbformat_minor": 4
}
